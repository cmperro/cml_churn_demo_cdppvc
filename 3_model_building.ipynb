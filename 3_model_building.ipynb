{
 "cells": [
  {
   "cell_type": "markdown",
   "metadata": {},
   "source": [
    "# Model Building\n",
    "This notebook explores the building a churn model and the explainer that is used by the final application."
   ]
  },
  {
   "cell_type": "code",
   "execution_count": 13,
   "metadata": {},
   "outputs": [],
   "source": [
    "import os, datetime, subprocess, glob, sys\n",
    "import dill\n",
    "import pandas as pd\n",
    "import numpy as np\n",
    "import cdsw\n",
    "import matplotlib.pyplot as plt\n",
    "\n",
    "data_dir = '/home/cdsw'"
   ]
  },
  {
   "cell_type": "markdown",
   "metadata": {},
   "source": [
    "## Read in the Data\n",
    "This section reads in the data into a pandas dataframe from the Hive table created in step 1. The hive table is read using Spark and converted using `toPandas()`. The data is not very big, so using a Spark in local mode is fine.\n"
   ]
  },
  {
   "cell_type": "code",
   "execution_count": 2,
   "metadata": {},
   "outputs": [
    {
     "name": "stdout",
     "output_type": "stream",
     "text": [
      "root\n",
      " |-- customerID: string (nullable = true)\n",
      " |-- gender: string (nullable = true)\n",
      " |-- SeniorCitizen: string (nullable = true)\n",
      " |-- Partner: string (nullable = true)\n",
      " |-- Dependents: string (nullable = true)\n",
      " |-- tenure: double (nullable = true)\n",
      " |-- PhoneService: string (nullable = true)\n",
      " |-- MultipleLines: string (nullable = true)\n",
      " |-- InternetService: string (nullable = true)\n",
      " |-- OnlineSecurity: string (nullable = true)\n",
      " |-- OnlineBackup: string (nullable = true)\n",
      " |-- DeviceProtection: string (nullable = true)\n",
      " |-- TechSupport: string (nullable = true)\n",
      " |-- StreamingTV: string (nullable = true)\n",
      " |-- StreamingMovies: string (nullable = true)\n",
      " |-- Contract: string (nullable = true)\n",
      " |-- PaperlessBilling: string (nullable = true)\n",
      " |-- PaymentMethod: string (nullable = true)\n",
      " |-- MonthlyCharges: double (nullable = true)\n",
      " |-- TotalCharges: double (nullable = true)\n",
      " |-- Churn: string (nullable = true)\n",
      "\n"
     ]
    }
   ],
   "source": [
    "from pyspark.sql import SparkSession\n",
    "from pyspark.sql.types import *\n",
    "\n",
    "spark = SparkSession\\\n",
    "    .builder\\\n",
    "    .appName(\"PythonSQL\")\\\n",
    "    .master(\"local[*]\")\\\n",
    "    .getOrCreate()\n",
    "\n",
    "spark_df = spark.sql(\"SELECT * FROM default.telco_churn\")\n",
    "spark_df.printSchema()\n",
    "df = spark_df.toPandas()"
   ]
  },
  {
   "cell_type": "markdown",
   "metadata": {},
   "source": [
    "## Basic Feature Engineering\n",
    "This section converts the data into the format needed for the LogisticRegression and LIME Explainer."
   ]
  },
  {
   "cell_type": "code",
   "execution_count": 3,
   "metadata": {},
   "outputs": [
    {
     "data": {
      "text/html": [
       "<div>\n",
       "<style scoped>\n",
       "    .dataframe tbody tr th:only-of-type {\n",
       "        vertical-align: middle;\n",
       "    }\n",
       "\n",
       "    .dataframe tbody tr th {\n",
       "        vertical-align: top;\n",
       "    }\n",
       "\n",
       "    .dataframe thead th {\n",
       "        text-align: right;\n",
       "    }\n",
       "</style>\n",
       "<table border=\"1\" class=\"dataframe\">\n",
       "  <thead>\n",
       "    <tr style=\"text-align: right;\">\n",
       "      <th></th>\n",
       "      <th>gender</th>\n",
       "      <th>SeniorCitizen</th>\n",
       "      <th>Partner</th>\n",
       "      <th>Dependents</th>\n",
       "      <th>tenure</th>\n",
       "      <th>PhoneService</th>\n",
       "      <th>MultipleLines</th>\n",
       "      <th>InternetService</th>\n",
       "      <th>OnlineSecurity</th>\n",
       "      <th>OnlineBackup</th>\n",
       "      <th>DeviceProtection</th>\n",
       "      <th>TechSupport</th>\n",
       "      <th>StreamingTV</th>\n",
       "      <th>StreamingMovies</th>\n",
       "      <th>Contract</th>\n",
       "      <th>PaperlessBilling</th>\n",
       "      <th>PaymentMethod</th>\n",
       "      <th>MonthlyCharges</th>\n",
       "      <th>TotalCharges</th>\n",
       "    </tr>\n",
       "    <tr>\n",
       "      <th>id</th>\n",
       "      <th></th>\n",
       "      <th></th>\n",
       "      <th></th>\n",
       "      <th></th>\n",
       "      <th></th>\n",
       "      <th></th>\n",
       "      <th></th>\n",
       "      <th></th>\n",
       "      <th></th>\n",
       "      <th></th>\n",
       "      <th></th>\n",
       "      <th></th>\n",
       "      <th></th>\n",
       "      <th></th>\n",
       "      <th></th>\n",
       "      <th></th>\n",
       "      <th></th>\n",
       "      <th></th>\n",
       "      <th></th>\n",
       "    </tr>\n",
       "  </thead>\n",
       "  <tbody>\n",
       "    <tr>\n",
       "      <td>0</td>\n",
       "      <td>Female</td>\n",
       "      <td>0</td>\n",
       "      <td>Yes</td>\n",
       "      <td>No</td>\n",
       "      <td>1.0</td>\n",
       "      <td>No</td>\n",
       "      <td>No phone service</td>\n",
       "      <td>DSL</td>\n",
       "      <td>No</td>\n",
       "      <td>Yes</td>\n",
       "      <td>No</td>\n",
       "      <td>No</td>\n",
       "      <td>No</td>\n",
       "      <td>No</td>\n",
       "      <td>Month-to-month</td>\n",
       "      <td>Yes</td>\n",
       "      <td>Electronic check</td>\n",
       "      <td>29.85</td>\n",
       "      <td>29.85</td>\n",
       "    </tr>\n",
       "    <tr>\n",
       "      <td>1</td>\n",
       "      <td>Male</td>\n",
       "      <td>0</td>\n",
       "      <td>No</td>\n",
       "      <td>No</td>\n",
       "      <td>34.0</td>\n",
       "      <td>Yes</td>\n",
       "      <td>No</td>\n",
       "      <td>DSL</td>\n",
       "      <td>Yes</td>\n",
       "      <td>No</td>\n",
       "      <td>Yes</td>\n",
       "      <td>No</td>\n",
       "      <td>No</td>\n",
       "      <td>No</td>\n",
       "      <td>One year</td>\n",
       "      <td>No</td>\n",
       "      <td>Mailed check</td>\n",
       "      <td>56.95</td>\n",
       "      <td>1889.50</td>\n",
       "    </tr>\n",
       "    <tr>\n",
       "      <td>2</td>\n",
       "      <td>Male</td>\n",
       "      <td>0</td>\n",
       "      <td>No</td>\n",
       "      <td>No</td>\n",
       "      <td>2.0</td>\n",
       "      <td>Yes</td>\n",
       "      <td>No</td>\n",
       "      <td>DSL</td>\n",
       "      <td>Yes</td>\n",
       "      <td>Yes</td>\n",
       "      <td>No</td>\n",
       "      <td>No</td>\n",
       "      <td>No</td>\n",
       "      <td>No</td>\n",
       "      <td>Month-to-month</td>\n",
       "      <td>Yes</td>\n",
       "      <td>Mailed check</td>\n",
       "      <td>53.85</td>\n",
       "      <td>108.15</td>\n",
       "    </tr>\n",
       "    <tr>\n",
       "      <td>3</td>\n",
       "      <td>Male</td>\n",
       "      <td>0</td>\n",
       "      <td>No</td>\n",
       "      <td>No</td>\n",
       "      <td>45.0</td>\n",
       "      <td>No</td>\n",
       "      <td>No phone service</td>\n",
       "      <td>DSL</td>\n",
       "      <td>Yes</td>\n",
       "      <td>No</td>\n",
       "      <td>Yes</td>\n",
       "      <td>Yes</td>\n",
       "      <td>No</td>\n",
       "      <td>No</td>\n",
       "      <td>One year</td>\n",
       "      <td>No</td>\n",
       "      <td>Bank transfer (automatic)</td>\n",
       "      <td>42.30</td>\n",
       "      <td>1840.75</td>\n",
       "    </tr>\n",
       "    <tr>\n",
       "      <td>4</td>\n",
       "      <td>Female</td>\n",
       "      <td>0</td>\n",
       "      <td>No</td>\n",
       "      <td>No</td>\n",
       "      <td>2.0</td>\n",
       "      <td>Yes</td>\n",
       "      <td>No</td>\n",
       "      <td>Fiber optic</td>\n",
       "      <td>No</td>\n",
       "      <td>No</td>\n",
       "      <td>No</td>\n",
       "      <td>No</td>\n",
       "      <td>No</td>\n",
       "      <td>No</td>\n",
       "      <td>Month-to-month</td>\n",
       "      <td>Yes</td>\n",
       "      <td>Electronic check</td>\n",
       "      <td>70.70</td>\n",
       "      <td>151.65</td>\n",
       "    </tr>\n",
       "  </tbody>\n",
       "</table>\n",
       "</div>"
      ],
      "text/plain": [
       "    gender SeniorCitizen Partner Dependents  tenure PhoneService  \\\n",
       "id                                                                 \n",
       "0   Female             0     Yes         No     1.0           No   \n",
       "1     Male             0      No         No    34.0          Yes   \n",
       "2     Male             0      No         No     2.0          Yes   \n",
       "3     Male             0      No         No    45.0           No   \n",
       "4   Female             0      No         No     2.0          Yes   \n",
       "\n",
       "       MultipleLines InternetService OnlineSecurity OnlineBackup  \\\n",
       "id                                                                 \n",
       "0   No phone service             DSL             No          Yes   \n",
       "1                 No             DSL            Yes           No   \n",
       "2                 No             DSL            Yes          Yes   \n",
       "3   No phone service             DSL            Yes           No   \n",
       "4                 No     Fiber optic             No           No   \n",
       "\n",
       "   DeviceProtection TechSupport StreamingTV StreamingMovies        Contract  \\\n",
       "id                                                                            \n",
       "0                No          No          No              No  Month-to-month   \n",
       "1               Yes          No          No              No        One year   \n",
       "2                No          No          No              No  Month-to-month   \n",
       "3               Yes         Yes          No              No        One year   \n",
       "4                No          No          No              No  Month-to-month   \n",
       "\n",
       "   PaperlessBilling              PaymentMethod  MonthlyCharges  TotalCharges  \n",
       "id                                                                            \n",
       "0               Yes           Electronic check           29.85         29.85  \n",
       "1                No               Mailed check           56.95       1889.50  \n",
       "2               Yes               Mailed check           53.85        108.15  \n",
       "3                No  Bank transfer (automatic)           42.30       1840.75  \n",
       "4               Yes           Electronic check           70.70        151.65  "
      ]
     },
     "execution_count": 3,
     "metadata": {},
     "output_type": "execute_result"
    }
   ],
   "source": [
    "# If you don't have the hive table, you can uncomment the lines below and do direct csv read of the data.\n",
    "#df = pd.read_csv(os.path.join(data_dir, 'raw', 'WA_Fn-UseC_-Telco-Customer-Churn.csv'))\n",
    "\n",
    "\n",
    "idcol = 'customerID'\n",
    "labelcol = 'Churn'\n",
    "cols = (('gender', True),\n",
    "        ('SeniorCitizen', True),\n",
    "        ('Partner', True),\n",
    "        ('Dependents', True),\n",
    "        ('tenure', False),\n",
    "        ('PhoneService', True),\n",
    "        ('MultipleLines', True),\n",
    "        ('InternetService', True),\n",
    "        ('OnlineSecurity', True),\n",
    "        ('OnlineBackup', True),\n",
    "        ('DeviceProtection', True),\n",
    "        ('TechSupport', True),\n",
    "        ('StreamingTV', True),\n",
    "        ('StreamingMovies', True),\n",
    "        ('Contract', True),\n",
    "        ('PaperlessBilling', True),\n",
    "        ('PaymentMethod', True),\n",
    "        ('MonthlyCharges', False),\n",
    "        ('TotalCharges', False))\n",
    "\n",
    "\n",
    "df = df.replace(r'^\\s$', np.nan, regex=True).dropna().reset_index()\n",
    "df.index.name = 'id'\n",
    "data, labels = df.drop(labelcol, axis=1), df[labelcol]\n",
    "data = data.replace({'SeniorCitizen': {1: 'Yes', 0: 'No'}})\n",
    "\n",
    "# This is Mike's lovely short hand syntax for looping through data and doing useful things. \n",
    "# I think if we started to pay him by the ASCII char, we'd get more readable code. The steps \n",
    "# below are just fancy python syntax for generators and iterators that \n",
    "# 1 - only use the colums listed in cols and\n",
    "data = data[[c for c, _ in cols]]\n",
    "\n",
    "# 2 - convert the categorical colums to pd.Categorical form\n",
    "catcols = (c for c, iscat in cols if iscat)\n",
    "for col in catcols:\n",
    "    data[col] = pd.Categorical(data[col])\n",
    "labels = (labels == 'Yes')\n",
    "\n",
    "# show some data\n",
    "data.head()"
   ]
  },
  {
   "cell_type": "markdown",
   "metadata": {},
   "source": [
    "## Machine Learning Model\n",
    "\n",
    "*CategoricalEncoder* and *ExpailnedModel* are helper classes pulled and edited from the original CFFL interpretability report \n",
    "code (https://ff06-2020.fastforwardlabs.com/). This follows a fairly standard ML workflow, which is to create a pipeline to:\n",
    "\n",
    "* Encode the categorical features using OneHotEncoder\n",
    "* Transform the numeric feature with a StandardScaler\n",
    "* Fit this data to a LogisticRegressionCV model\n",
    "\n",
    "Then we can evaluate the model to see how it works."
   ]
  },
  {
   "cell_type": "code",
   "execution_count": 4,
   "metadata": {},
   "outputs": [
    {
     "name": "stderr",
     "output_type": "stream",
     "text": [
      "/home/cdsw/.local/lib/python3.6/site-packages/sklearn/preprocessing/_encoders.py:415: FutureWarning: The handling of integer data will change in version 0.22. Currently, the categories are determined based on the range [0, max(values)], while in the future they will be determined based on the unique values.\n",
      "If you want the future behaviour and silence this warning, you can specify \"categories='auto'\".\n",
      "In case you used a LabelEncoder before this OneHotEncoder to convert the categories to integers, then you can now use the OneHotEncoder directly.\n",
      "  warnings.warn(msg, FutureWarning)\n"
     ]
    },
    {
     "name": "stdout",
     "output_type": "stream",
     "text": [
      "train 0.8077360637087599\n",
      "test 0.7912400455062572\n",
      "              precision    recall  f1-score   support\n",
      "\n",
      "       False       0.84      0.89      0.86      1300\n",
      "        True       0.62      0.52      0.56       458\n",
      "\n",
      "    accuracy                           0.79      1758\n",
      "   macro avg       0.73      0.70      0.71      1758\n",
      "weighted avg       0.78      0.79      0.79      1758\n",
      "\n"
     ]
    }
   ],
   "source": [
    "from sklearn.model_selection import train_test_split\n",
    "from sklearn.metrics import classification_report\n",
    "from sklearn.preprocessing import OneHotEncoder, StandardScaler\n",
    "from sklearn.pipeline import Pipeline\n",
    "from sklearn.linear_model import LogisticRegressionCV, LogisticRegression\n",
    "from sklearn.compose import ColumnTransformer\n",
    "\n",
    "from churnexplainer import CategoricalEncoder\n",
    "\n",
    "ce = CategoricalEncoder()\n",
    "X = ce.fit_transform(data)\n",
    "y = labels.values\n",
    "X_train, X_test, y_train, y_test = train_test_split(X, y, random_state=42)\n",
    "\n",
    "ct = ColumnTransformer(\n",
    "    [('ohe', OneHotEncoder(), list(ce.cat_columns_ix_.values()))],\n",
    "    remainder='passthrough'\n",
    ")\n",
    "clf = LogisticRegressionCV(cv=5,solver='lbfgs',max_iter=100)\n",
    "pipe = Pipeline([('ct', ct),\n",
    "                 ('scaler', StandardScaler()),\n",
    "                 ('clf', clf)])\n",
    "pipe.fit(X_train, y_train)\n",
    "train_score = pipe.score(X_train, y_train)\n",
    "test_score = pipe.score(X_test, y_test)\n",
    "print(\"train\",train_score)\n",
    "print(\"test\", test_score)    \n",
    "print(classification_report(y_test, pipe.predict(X_test)))"
   ]
  },
  {
   "cell_type": "markdown",
   "metadata": {},
   "source": [
    "Just for a comparison, lets compare the LogisticRegressionCV to a RandomForestClassifier. Random Forests do not need the categorical features encoded with a OneHotEncoder. As the features are already numeric, that is no need to run a StringIndexer either."
   ]
  },
  {
   "cell_type": "code",
   "execution_count": 5,
   "metadata": {},
   "outputs": [
    {
     "name": "stdout",
     "output_type": "stream",
     "text": [
      "train 0.9982935153583617\n",
      "test 0.7918088737201365\n",
      "              precision    recall  f1-score   support\n",
      "\n",
      "       False       0.83      0.90      0.86      1300\n",
      "        True       0.63      0.48      0.55       458\n",
      "\n",
      "    accuracy                           0.79      1758\n",
      "   macro avg       0.73      0.69      0.71      1758\n",
      "weighted avg       0.78      0.79      0.78      1758\n",
      "\n"
     ]
    }
   ],
   "source": [
    "from sklearn.ensemble import RandomForestClassifier\n",
    "clf_rf = RandomForestClassifier(n_estimators=100)\n",
    "pipe_rf = Pipeline([('scaler', StandardScaler()),\n",
    "                 ('clf', clf_rf)])\n",
    "pipe_rf.fit(X_train, y_train)\n",
    "train_score = pipe_rf.score(X_train, y_train)\n",
    "test_score = pipe_rf.score(X_test, y_test)\n",
    "print(\"train\",train_score)\n",
    "print(\"test\", test_score)\n",
    "print(classification_report(y_test, pipe_rf.predict(X_test)))"
   ]
  },
  {
   "cell_type": "markdown",
   "metadata": {},
   "source": [
    "## AUROC Curve"
   ]
  },
  {
   "cell_type": "code",
   "execution_count": 6,
   "metadata": {},
   "outputs": [
    {
     "name": "stdout",
     "output_type": "stream",
     "text": [
      "Logistic: ROC AUC=0.834\n"
     ]
    },
    {
     "data": {
      "image/png": "[encoded data removed]",
      "text/plain": [
       "<matplotlib.figure.Figure at 0x7fec422aaf98>"
      ]
     },
     "metadata": {
      "needs_background": "light"
     },
     "output_type": "display_data"
    }
   ],
   "source": [
    "from sklearn.metrics import roc_curve\n",
    "from sklearn.metrics import roc_auc_score\n",
    "from matplotlib import pyplot\n",
    "\n",
    "logistic_regression_probabilities = pipe.predict_proba(X_test)\n",
    "logistic_regression_probabilities = logistic_regression_probabilities[:, 1]\n",
    "logistic_regression_auc = roc_auc_score(y_test, logistic_regression_probabilities)\n",
    "print('Logistic: ROC AUC=%.3f' % (logistic_regression_auc))\n",
    "logistic_regression_fpr, logistic_regression_tpr, _ = roc_curve(y_test, logistic_regression_probabilities)\n",
    "pyplot.plot(logistic_regression_fpr, logistic_regression_tpr, label='Logistic')\n",
    "pyplot.show()"
   ]
  },
  {
   "cell_type": "markdown",
   "metadata": {},
   "source": [
    "## Lime Explainer\n",
    "\n",
    "The explainer uses [LIME](https://github.com/marcotcr/lime). a.k.a Local Interpretable Model-Agnostic Explanations. It is a mechanism used to calculate the effect that each feature has on the predicted value. It is explained in depth in the the [FFL report](https://ff06-2020.fastforwardlabs.com/).\n",
    "\n",
    "The LimeTabularExplainer instance that is used for the ExplainedModel requires the following inputs.\n",
    "\n",
    "* training_data – numpy 2d array\n",
    "* feature_names – list of names (strings) corresponding to the columns in the training data.\n",
    "* categorical_features – list of indices (ints) corresponding to the categorical columns. Everything else will be considered continuous. Values in these columns MUST be integers.\n",
    "* categorical_names – map from int to list of names, where categorical_names[x][y] represents the name of the yth value of column x.\n",
    "* class_names – list of class names, ordered according to whatever the classifier is using. If not present, class names will be ‘0’, ‘1’, ..."
   ]
  },
  {
   "cell_type": "code",
   "execution_count": 7,
   "metadata": {},
   "outputs": [],
   "source": [
    "from lime.lime_tabular import LimeTabularExplainer\n",
    "\n",
    "data[labels.name + ' probability'] = pipe.predict_proba(X)[:, 1]\n",
    "\n",
    "# List of length number of features, containing names of features in order\n",
    "# in which they appear in X\n",
    "feature_names = list(ce.columns_)\n",
    "\n",
    "# List of indices of columns of X containing categorical features\n",
    "categorical_features = list(ce.cat_columns_ix_.values())\n",
    "\n",
    "# List of (index, [cat1, cat2...]) index-strings tuples, where each index\n",
    "# is that of a categorical column in X, and the list of strings are the\n",
    "# possible values it can take\n",
    "categorical_names = {i: ce.classes_[c]\n",
    "                     for c, i in ce.cat_columns_ix_.items()}\n",
    "class_names = ['No ' + labels.name, labels.name]\n",
    "explainer = LimeTabularExplainer(ce.transform(data),\n",
    "                                 feature_names=feature_names,\n",
    "                                 class_names=class_names,\n",
    "                                 categorical_features=categorical_features,\n",
    "                                 categorical_names=categorical_names)    \n",
    "\n"
   ]
  },
  {
   "cell_type": "markdown",
   "metadata": {},
   "source": [
    "## Explaining a Single Instance\n",
    "Just to unpack how LIME works a bit more, lets look at how one specfic instance would be interpreted. Lime explains the instance as a weighting by feature from -1 to 1. Closer to -1 is a stronger impact of coming up with a 0 prediction result (will not churn) and vice versa."
   ]
  },
  {
   "cell_type": "code",
   "execution_count": 8,
   "metadata": {},
   "outputs": [
    {
     "data": {
      "text/html": [
       "<div>\n",
       "<style scoped>\n",
       "    .dataframe tbody tr th:only-of-type {\n",
       "        vertical-align: middle;\n",
       "    }\n",
       "\n",
       "    .dataframe tbody tr th {\n",
       "        vertical-align: top;\n",
       "    }\n",
       "\n",
       "    .dataframe thead th {\n",
       "        text-align: right;\n",
       "    }\n",
       "</style>\n",
       "<table border=\"1\" class=\"dataframe\">\n",
       "  <thead>\n",
       "    <tr style=\"text-align: right;\">\n",
       "      <th>id</th>\n",
       "      <th>785</th>\n",
       "    </tr>\n",
       "  </thead>\n",
       "  <tbody>\n",
       "    <tr>\n",
       "      <td>gender</td>\n",
       "      <td>Female</td>\n",
       "    </tr>\n",
       "    <tr>\n",
       "      <td>SeniorCitizen</td>\n",
       "      <td>0</td>\n",
       "    </tr>\n",
       "    <tr>\n",
       "      <td>Partner</td>\n",
       "      <td>Yes</td>\n",
       "    </tr>\n",
       "    <tr>\n",
       "      <td>Dependents</td>\n",
       "      <td>No</td>\n",
       "    </tr>\n",
       "    <tr>\n",
       "      <td>tenure</td>\n",
       "      <td>34</td>\n",
       "    </tr>\n",
       "    <tr>\n",
       "      <td>PhoneService</td>\n",
       "      <td>Yes</td>\n",
       "    </tr>\n",
       "    <tr>\n",
       "      <td>MultipleLines</td>\n",
       "      <td>Yes</td>\n",
       "    </tr>\n",
       "    <tr>\n",
       "      <td>InternetService</td>\n",
       "      <td>DSL</td>\n",
       "    </tr>\n",
       "    <tr>\n",
       "      <td>OnlineSecurity</td>\n",
       "      <td>Yes</td>\n",
       "    </tr>\n",
       "    <tr>\n",
       "      <td>OnlineBackup</td>\n",
       "      <td>No</td>\n",
       "    </tr>\n",
       "    <tr>\n",
       "      <td>DeviceProtection</td>\n",
       "      <td>No</td>\n",
       "    </tr>\n",
       "    <tr>\n",
       "      <td>TechSupport</td>\n",
       "      <td>Yes</td>\n",
       "    </tr>\n",
       "    <tr>\n",
       "      <td>StreamingTV</td>\n",
       "      <td>No</td>\n",
       "    </tr>\n",
       "    <tr>\n",
       "      <td>StreamingMovies</td>\n",
       "      <td>No</td>\n",
       "    </tr>\n",
       "    <tr>\n",
       "      <td>Contract</td>\n",
       "      <td>Month-to-month</td>\n",
       "    </tr>\n",
       "    <tr>\n",
       "      <td>PaperlessBilling</td>\n",
       "      <td>Yes</td>\n",
       "    </tr>\n",
       "    <tr>\n",
       "      <td>PaymentMethod</td>\n",
       "      <td>Bank transfer (automatic)</td>\n",
       "    </tr>\n",
       "    <tr>\n",
       "      <td>MonthlyCharges</td>\n",
       "      <td>60.85</td>\n",
       "    </tr>\n",
       "    <tr>\n",
       "      <td>TotalCharges</td>\n",
       "      <td>2003.6</td>\n",
       "    </tr>\n",
       "    <tr>\n",
       "      <td>Churn probability</td>\n",
       "      <td>0.09873</td>\n",
       "    </tr>\n",
       "  </tbody>\n",
       "</table>\n",
       "</div>"
      ],
      "text/plain": [
       "id                                       785\n",
       "gender                                Female\n",
       "SeniorCitizen                              0\n",
       "Partner                                  Yes\n",
       "Dependents                                No\n",
       "tenure                                    34\n",
       "PhoneService                             Yes\n",
       "MultipleLines                            Yes\n",
       "InternetService                          DSL\n",
       "OnlineSecurity                           Yes\n",
       "OnlineBackup                              No\n",
       "DeviceProtection                          No\n",
       "TechSupport                              Yes\n",
       "StreamingTV                               No\n",
       "StreamingMovies                           No\n",
       "Contract                      Month-to-month\n",
       "PaperlessBilling                         Yes\n",
       "PaymentMethod      Bank transfer (automatic)\n",
       "MonthlyCharges                         60.85\n",
       "TotalCharges                          2003.6\n",
       "Churn probability                    0.09873"
      ]
     },
     "execution_count": 8,
     "metadata": {},
     "output_type": "execute_result"
    }
   ],
   "source": [
    "data.sample().T"
   ]
  },
  {
   "cell_type": "code",
   "execution_count": 9,
   "metadata": {},
   "outputs": [
    {
     "name": "stdout",
     "output_type": "stream",
     "text": [
      "('InternetService=DSL', -0.1723039051453289)\n",
      "('29.00 < tenure <= 55.00', -0.12617002162619612)\n",
      "('Contract=Two year', -0.11071421923618396)\n",
      "('35.59 < MonthlyCharges <= 70.35', 0.06476657612839193)\n",
      "('StreamingMovies=No', -0.0570693510979433)\n",
      "('StreamingTV=No', -0.05138659382969836)\n",
      "('PhoneService=Yes', 0.04567845914505437)\n",
      "('MultipleLines=Yes', 0.03142740579344248)\n",
      "('Dependents=Yes', -0.02731255760729322)\n",
      "('SeniorCitizen=0', -0.026437781932408814)\n"
     ]
    }
   ],
   "source": [
    "exp = explainer.explain_instance(ce.transform(data.sample())[0],pipe.predict_proba)\n",
    "for cols in exp.as_list():\n",
    "    print(cols)"
   ]
  },
  {
   "cell_type": "code",
   "execution_count": 10,
   "metadata": {},
   "outputs": [
    {
     "data": {
      "image/png": "[encoded data removed]",
      "text/plain": [
       "<matplotlib.figure.Figure at 0x7fec8127e710>"
      ]
     },
     "metadata": {
      "needs_background": "light"
     },
     "output_type": "display_data"
    }
   ],
   "source": [
    "exp.as_pyplot_figure()\n",
    "plt.tight_layout()"
   ]
  },
  {
   "cell_type": "markdown",
   "metadata": {},
   "source": [
    "# ExplainedModel class\n",
    "The ExplainedModel class is a handy wrapper that combines the CategoricalEncoder, the Pipeline and the Lime Explainer to make it easier to make and predict new features and is used in other parts of this project."
   ]
  },
  {
   "cell_type": "code",
   "execution_count": 11,
   "metadata": {},
   "outputs": [],
   "source": [
    "from churnexplainer import ExplainedModel\n",
    "explainedmodel = ExplainedModel(data=data, labels=labels, model_name='telco_linear',\n",
    "                                categoricalencoder=ce, pipeline=pipe,\n",
    "                                explainer=explainer,data_dir=data_dir)\n",
    "explainedmodel.save()"
   ]
  },
  {
   "cell_type": "code",
   "execution_count": null,
   "metadata": {},
   "outputs": [],
   "source": [
    "spark.stop()"
   ]
  }
 ],
 "metadata": {
  "kernelspec": {
   "display_name": "Python 3",
   "language": "python",
   "name": "python3"
  },
  "language_info": {
   "codemirror_mode": {
    "name": "ipython",
    "version": 3
   },
   "file_extension": ".py",
   "mimetype": "text/x-python",
   "name": "python",
   "nbconvert_exporter": "python",
   "pygments_lexer": "ipython3",
   "version": "3.6.9"
  }
 },
 "nbformat": 4,
 "nbformat_minor": 4
}
